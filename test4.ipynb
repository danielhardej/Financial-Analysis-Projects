{
 "cells": [
  {
   "cell_type": "code",
   "execution_count": 1,
   "metadata": {},
   "outputs": [],
   "source": [
    "import yahoo_fin.stock_info as si\n",
    "import pandas as pd"
   ]
  },
  {
   "cell_type": "code",
   "execution_count": 2,
   "metadata": {},
   "outputs": [],
   "source": [
    "aapl = si.get_data('aapl')"
   ]
  },
  {
   "cell_type": "code",
   "execution_count": 3,
   "metadata": {},
   "outputs": [
    {
     "data": {
      "text/html": [
       "<div>\n",
       "<style scoped>\n",
       "    .dataframe tbody tr th:only-of-type {\n",
       "        vertical-align: middle;\n",
       "    }\n",
       "\n",
       "    .dataframe tbody tr th {\n",
       "        vertical-align: top;\n",
       "    }\n",
       "\n",
       "    .dataframe thead th {\n",
       "        text-align: right;\n",
       "    }\n",
       "</style>\n",
       "<table border=\"1\" class=\"dataframe\">\n",
       "  <thead>\n",
       "    <tr style=\"text-align: right;\">\n",
       "      <th></th>\n",
       "      <th>open</th>\n",
       "      <th>high</th>\n",
       "      <th>low</th>\n",
       "      <th>close</th>\n",
       "      <th>adjclose</th>\n",
       "      <th>volume</th>\n",
       "      <th>ticker</th>\n",
       "    </tr>\n",
       "  </thead>\n",
       "  <tbody>\n",
       "    <tr>\n",
       "      <th>1980-12-29</th>\n",
       "      <td>0.160714</td>\n",
       "      <td>0.161272</td>\n",
       "      <td>0.160714</td>\n",
       "      <td>0.160714</td>\n",
       "      <td>0.124869</td>\n",
       "      <td>93161600</td>\n",
       "      <td>AAPL</td>\n",
       "    </tr>\n",
       "    <tr>\n",
       "      <th>1980-12-30</th>\n",
       "      <td>0.157366</td>\n",
       "      <td>0.157366</td>\n",
       "      <td>0.156808</td>\n",
       "      <td>0.156808</td>\n",
       "      <td>0.121834</td>\n",
       "      <td>68880000</td>\n",
       "      <td>AAPL</td>\n",
       "    </tr>\n",
       "    <tr>\n",
       "      <th>1980-12-31</th>\n",
       "      <td>0.152902</td>\n",
       "      <td>0.152902</td>\n",
       "      <td>0.152344</td>\n",
       "      <td>0.152344</td>\n",
       "      <td>0.118366</td>\n",
       "      <td>35750400</td>\n",
       "      <td>AAPL</td>\n",
       "    </tr>\n",
       "    <tr>\n",
       "      <th>1981-01-02</th>\n",
       "      <td>0.154018</td>\n",
       "      <td>0.155134</td>\n",
       "      <td>0.154018</td>\n",
       "      <td>0.154018</td>\n",
       "      <td>0.119666</td>\n",
       "      <td>21660800</td>\n",
       "      <td>AAPL</td>\n",
       "    </tr>\n",
       "    <tr>\n",
       "      <th>1981-01-05</th>\n",
       "      <td>0.151228</td>\n",
       "      <td>0.151228</td>\n",
       "      <td>0.150670</td>\n",
       "      <td>0.150670</td>\n",
       "      <td>0.117065</td>\n",
       "      <td>35728000</td>\n",
       "      <td>AAPL</td>\n",
       "    </tr>\n",
       "    <tr>\n",
       "      <th>1981-01-06</th>\n",
       "      <td>0.144531</td>\n",
       "      <td>0.144531</td>\n",
       "      <td>0.143973</td>\n",
       "      <td>0.143973</td>\n",
       "      <td>0.111862</td>\n",
       "      <td>45158400</td>\n",
       "      <td>AAPL</td>\n",
       "    </tr>\n",
       "    <tr>\n",
       "      <th>1981-01-07</th>\n",
       "      <td>0.138393</td>\n",
       "      <td>0.138393</td>\n",
       "      <td>0.137835</td>\n",
       "      <td>0.137835</td>\n",
       "      <td>0.107093</td>\n",
       "      <td>55686400</td>\n",
       "      <td>AAPL</td>\n",
       "    </tr>\n",
       "    <tr>\n",
       "      <th>1981-01-08</th>\n",
       "      <td>0.135603</td>\n",
       "      <td>0.135603</td>\n",
       "      <td>0.135045</td>\n",
       "      <td>0.135045</td>\n",
       "      <td>0.104925</td>\n",
       "      <td>39827200</td>\n",
       "      <td>AAPL</td>\n",
       "    </tr>\n",
       "    <tr>\n",
       "      <th>1981-01-09</th>\n",
       "      <td>0.142299</td>\n",
       "      <td>0.142857</td>\n",
       "      <td>0.142299</td>\n",
       "      <td>0.142299</td>\n",
       "      <td>0.110561</td>\n",
       "      <td>21504000</td>\n",
       "      <td>AAPL</td>\n",
       "    </tr>\n",
       "    <tr>\n",
       "      <th>1981-01-12</th>\n",
       "      <td>0.142299</td>\n",
       "      <td>0.142299</td>\n",
       "      <td>0.141183</td>\n",
       "      <td>0.141183</td>\n",
       "      <td>0.109694</td>\n",
       "      <td>23699200</td>\n",
       "      <td>AAPL</td>\n",
       "    </tr>\n",
       "  </tbody>\n",
       "</table>\n",
       "</div>"
      ],
      "text/plain": [
       "                open      high       low     close  adjclose    volume ticker\n",
       "1980-12-29  0.160714  0.161272  0.160714  0.160714  0.124869  93161600   AAPL\n",
       "1980-12-30  0.157366  0.157366  0.156808  0.156808  0.121834  68880000   AAPL\n",
       "1980-12-31  0.152902  0.152902  0.152344  0.152344  0.118366  35750400   AAPL\n",
       "1981-01-02  0.154018  0.155134  0.154018  0.154018  0.119666  21660800   AAPL\n",
       "1981-01-05  0.151228  0.151228  0.150670  0.150670  0.117065  35728000   AAPL\n",
       "1981-01-06  0.144531  0.144531  0.143973  0.143973  0.111862  45158400   AAPL\n",
       "1981-01-07  0.138393  0.138393  0.137835  0.137835  0.107093  55686400   AAPL\n",
       "1981-01-08  0.135603  0.135603  0.135045  0.135045  0.104925  39827200   AAPL\n",
       "1981-01-09  0.142299  0.142857  0.142299  0.142299  0.110561  21504000   AAPL\n",
       "1981-01-12  0.142299  0.142299  0.141183  0.141183  0.109694  23699200   AAPL"
      ]
     },
     "execution_count": 3,
     "metadata": {},
     "output_type": "execute_result"
    }
   ],
   "source": [
    "aapl[10:20]"
   ]
  },
  {
   "cell_type": "code",
   "execution_count": 6,
   "metadata": {},
   "outputs": [],
   "source": [
    "aapl_earnings = si.get_earnings('aapl')"
   ]
  },
  {
   "cell_type": "code",
   "execution_count": 7,
   "metadata": {},
   "outputs": [
    {
     "data": {
      "text/plain": [
       "{'quarterly_results': Empty DataFrame\n",
       " Columns: []\n",
       " Index: [],\n",
       " 'yearly_revenue_earnings': Empty DataFrame\n",
       " Columns: []\n",
       " Index: [],\n",
       " 'quarterly_revenue_earnings': Empty DataFrame\n",
       " Columns: []\n",
       " Index: []}"
      ]
     },
     "execution_count": 7,
     "metadata": {},
     "output_type": "execute_result"
    }
   ],
   "source": [
    "aapl_earnings"
   ]
  },
  {
   "cell_type": "code",
   "execution_count": null,
   "metadata": {},
   "outputs": [],
   "source": []
  }
 ],
 "metadata": {
  "kernelspec": {
   "display_name": "Python 3",
   "language": "python",
   "name": "python3"
  },
  "language_info": {
   "codemirror_mode": {
    "name": "ipython",
    "version": 3
   },
   "file_extension": ".py",
   "mimetype": "text/x-python",
   "name": "python",
   "nbconvert_exporter": "python",
   "pygments_lexer": "ipython3",
   "version": "3.10.10"
  },
  "orig_nbformat": 4
 },
 "nbformat": 4,
 "nbformat_minor": 2
}
