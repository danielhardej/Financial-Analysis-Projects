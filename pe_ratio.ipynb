{
 "cells": [
  {
   "cell_type": "code",
   "execution_count": 40,
   "metadata": {},
   "outputs": [],
   "source": [
    "import requests\n",
    "import pandas as pd\n",
    "import pandas_datareader.data as web\n",
    "import datetime\n",
    "\n",
    "api_key = 'REGTU7YTI3S3D5UM'"
   ]
  },
  {
   "cell_type": "code",
   "execution_count": 16,
   "metadata": {},
   "outputs": [
    {
     "name": "stdout",
     "output_type": "stream",
     "text": [
      "[{'fiscalDateEnding': '2022-12-31', 'reportedDate': '2023-01-24', 'reportedEPS': '2.32', 'estimatedEPS': '2.3', 'surprise': '0.02', 'surprisePercentage': '0.8696'}, {'fiscalDateEnding': '2022-09-30', 'reportedDate': '2022-10-25', 'reportedEPS': '2.35', 'estimatedEPS': '2.3', 'surprise': '0.05', 'surprisePercentage': '2.1739'}, {'fiscalDateEnding': '2022-06-30', 'reportedDate': '2022-07-26', 'reportedEPS': '2.23', 'estimatedEPS': '2.29', 'surprise': '-0.06', 'surprisePercentage': '-2.6201'}, {'fiscalDateEnding': '2022-03-31', 'reportedDate': '2022-04-26', 'reportedEPS': '2.22', 'estimatedEPS': '2.19', 'surprise': '0.03', 'surprisePercentage': '1.3699'}, {'fiscalDateEnding': '2021-12-31', 'reportedDate': '2022-01-25', 'reportedEPS': '2.48', 'estimatedEPS': '2.31', 'surprise': '0.17', 'surprisePercentage': '7.3593'}, {'fiscalDateEnding': '2021-09-30', 'reportedDate': '2021-10-26', 'reportedEPS': '2.27', 'estimatedEPS': '2.08', 'surprise': '0.19', 'surprisePercentage': '9.1346'}, {'fiscalDateEnding': '2021-06-30', 'reportedDate': '2021-07-27', 'reportedEPS': '2.17', 'estimatedEPS': '1.92', 'surprise': '0.25', 'surprisePercentage': '13.0208'}, {'fiscalDateEnding': '2021-03-31', 'reportedDate': '2021-04-27', 'reportedEPS': '2.03', 'estimatedEPS': '1.78', 'surprise': '0.25', 'surprisePercentage': '14.0449'}, {'fiscalDateEnding': '2020-12-31', 'reportedDate': '2021-01-26', 'reportedEPS': '2.03', 'estimatedEPS': '1.64', 'surprise': '0.39', 'surprisePercentage': '23.7805'}, {'fiscalDateEnding': '2020-09-30', 'reportedDate': '2020-10-27', 'reportedEPS': '1.82', 'estimatedEPS': '1.54', 'surprise': '0.28', 'surprisePercentage': '18.1818'}, {'fiscalDateEnding': '2020-06-30', 'reportedDate': '2020-07-22', 'reportedEPS': '1.46', 'estimatedEPS': '1.34', 'surprise': '0.12', 'surprisePercentage': '8.9552'}, {'fiscalDateEnding': '2020-03-31', 'reportedDate': '2020-04-29', 'reportedEPS': '1.4', 'estimatedEPS': '1.26', 'surprise': '0.14', 'surprisePercentage': '11.1111'}, {'fiscalDateEnding': '2019-12-31', 'reportedDate': '2020-01-29', 'reportedEPS': '1.51', 'estimatedEPS': '1.32', 'surprise': '0.19', 'surprisePercentage': '14.3939'}, {'fiscalDateEnding': '2019-09-30', 'reportedDate': '2019-10-23', 'reportedEPS': '1.38', 'estimatedEPS': '1.25', 'surprise': '0.13', 'surprisePercentage': '10.4'}, {'fiscalDateEnding': '2019-06-30', 'reportedDate': '2019-07-18', 'reportedEPS': '1.37', 'estimatedEPS': '1.21', 'surprise': '0.16', 'surprisePercentage': '13.2231'}, {'fiscalDateEnding': '2019-03-31', 'reportedDate': '2019-04-24', 'reportedEPS': '1.14', 'estimatedEPS': '1', 'surprise': '0.14', 'surprisePercentage': '14'}, {'fiscalDateEnding': '2018-12-31', 'reportedDate': '2019-01-30', 'reportedEPS': '1.1', 'estimatedEPS': '1.09', 'surprise': '0.01', 'surprisePercentage': '0.9174'}, {'fiscalDateEnding': '2018-09-30', 'reportedDate': '2018-10-24', 'reportedEPS': '1.14', 'estimatedEPS': '0.96', 'surprise': '0.18', 'surprisePercentage': '18.75'}, {'fiscalDateEnding': '2018-06-30', 'reportedDate': '2018-07-19', 'reportedEPS': '1.13', 'estimatedEPS': '1.08', 'surprise': '0.05', 'surprisePercentage': '4.6296'}, {'fiscalDateEnding': '2018-03-31', 'reportedDate': '2018-04-26', 'reportedEPS': '0.95', 'estimatedEPS': '0.85', 'surprise': '0.1', 'surprisePercentage': '11.7647'}, {'fiscalDateEnding': '2017-12-31', 'reportedDate': '2018-01-31', 'reportedEPS': '0.96', 'estimatedEPS': '0.87', 'surprise': '0.09', 'surprisePercentage': '10.3448'}, {'fiscalDateEnding': '2017-09-30', 'reportedDate': '2017-10-26', 'reportedEPS': '0.84', 'estimatedEPS': '0.72', 'surprise': '0.12', 'surprisePercentage': '16.6667'}, {'fiscalDateEnding': '2017-06-30', 'reportedDate': '2017-07-20', 'reportedEPS': '0.98', 'estimatedEPS': '0.71', 'surprise': '0.27', 'surprisePercentage': '38.0282'}, {'fiscalDateEnding': '2017-03-31', 'reportedDate': '2017-04-27', 'reportedEPS': '0.73', 'estimatedEPS': '0.7', 'surprise': '0.03', 'surprisePercentage': '4.2857'}, {'fiscalDateEnding': '2016-12-31', 'reportedDate': '2017-01-26', 'reportedEPS': '0.83', 'estimatedEPS': '0.79', 'surprise': '0.04', 'surprisePercentage': '5.0633'}, {'fiscalDateEnding': '2016-09-30', 'reportedDate': '2016-10-20', 'reportedEPS': '0.76', 'estimatedEPS': '0.68', 'surprise': '0.08', 'surprisePercentage': '11.7647'}, {'fiscalDateEnding': '2016-06-30', 'reportedDate': '2016-07-19', 'reportedEPS': '0.69', 'estimatedEPS': '0.58', 'surprise': '0.11', 'surprisePercentage': '18.9655'}, {'fiscalDateEnding': '2016-03-31', 'reportedDate': '2016-04-21', 'reportedEPS': '0.62', 'estimatedEPS': '0.64', 'surprise': '-0.02', 'surprisePercentage': '-3.125'}, {'fiscalDateEnding': '2015-12-31', 'reportedDate': '2016-01-28', 'reportedEPS': '0.78', 'estimatedEPS': '0.71', 'surprise': '0.07', 'surprisePercentage': '9.8592'}, {'fiscalDateEnding': '2015-09-30', 'reportedDate': '2015-10-22', 'reportedEPS': '0.67', 'estimatedEPS': '0.59', 'surprise': '0.08', 'surprisePercentage': '13.5593'}, {'fiscalDateEnding': '2015-06-30', 'reportedDate': '2015-07-21', 'reportedEPS': '0.6', 'estimatedEPS': '0.56', 'surprise': '0.04', 'surprisePercentage': '7.1429'}, {'fiscalDateEnding': '2015-03-31', 'reportedDate': '2015-04-23', 'reportedEPS': '0.61', 'estimatedEPS': '0.51', 'surprise': '0.1', 'surprisePercentage': '19.6078'}, {'fiscalDateEnding': '2014-12-31', 'reportedDate': '2015-01-26', 'reportedEPS': '0.71', 'estimatedEPS': '0.71', 'surprise': '0', 'surprisePercentage': '0'}, {'fiscalDateEnding': '2014-09-30', 'reportedDate': '2014-10-23', 'reportedEPS': '0.54', 'estimatedEPS': '0.49', 'surprise': '0.05', 'surprisePercentage': '10.2041'}, {'fiscalDateEnding': '2014-06-30', 'reportedDate': '2014-07-22', 'reportedEPS': '0.55', 'estimatedEPS': '0.6', 'surprise': '-0.05', 'surprisePercentage': '-8.3333'}, {'fiscalDateEnding': '2014-03-31', 'reportedDate': '2014-04-24', 'reportedEPS': '0.68', 'estimatedEPS': '0.63', 'surprise': '0.05', 'surprisePercentage': '7.9365'}, {'fiscalDateEnding': '2013-12-31', 'reportedDate': '2014-01-23', 'reportedEPS': '0.78', 'estimatedEPS': '0.68', 'surprise': '0.1', 'surprisePercentage': '14.7059'}, {'fiscalDateEnding': '2013-09-30', 'reportedDate': '2013-10-24', 'reportedEPS': '0.62', 'estimatedEPS': '0.54', 'surprise': '0.08', 'surprisePercentage': '14.8148'}, {'fiscalDateEnding': '2013-06-30', 'reportedDate': '2013-07-18', 'reportedEPS': '0.66', 'estimatedEPS': '0.75', 'surprise': '-0.09', 'surprisePercentage': '-12'}, {'fiscalDateEnding': '2013-03-31', 'reportedDate': '2013-04-18', 'reportedEPS': '0.72', 'estimatedEPS': '0.68', 'surprise': '0.04', 'surprisePercentage': '5.8824'}, {'fiscalDateEnding': '2012-12-31', 'reportedDate': '2013-01-24', 'reportedEPS': '0.76', 'estimatedEPS': '0.75', 'surprise': '0.01', 'surprisePercentage': '1.3333'}, {'fiscalDateEnding': '2012-09-30', 'reportedDate': '2012-10-18', 'reportedEPS': '0.53', 'estimatedEPS': '0.56', 'surprise': '-0.03', 'surprisePercentage': '-5.3571'}, {'fiscalDateEnding': '2012-06-30', 'reportedDate': '2012-07-19', 'reportedEPS': '0.67', 'estimatedEPS': '0.62', 'surprise': '0.05', 'surprisePercentage': '8.0645'}, {'fiscalDateEnding': '2012-03-31', 'reportedDate': '2012-04-19', 'reportedEPS': '0.6', 'estimatedEPS': '0.57', 'surprise': '0.03', 'surprisePercentage': '5.2632'}, {'fiscalDateEnding': '2011-12-31', 'reportedDate': '2012-01-19', 'reportedEPS': '0.78', 'estimatedEPS': '0.76', 'surprise': '0.02', 'surprisePercentage': '2.6316'}, {'fiscalDateEnding': '2011-09-30', 'reportedDate': '2011-10-20', 'reportedEPS': '0.68', 'estimatedEPS': '0.68', 'surprise': '0', 'surprisePercentage': '0'}, {'fiscalDateEnding': '2011-06-30', 'reportedDate': '2011-07-21', 'reportedEPS': '0.69', 'estimatedEPS': '0.58', 'surprise': '0.11', 'surprisePercentage': '18.9655'}, {'fiscalDateEnding': '2011-03-31', 'reportedDate': '2011-04-28', 'reportedEPS': '0.61', 'estimatedEPS': '0.56', 'surprise': '0.05', 'surprisePercentage': '8.9286'}, {'fiscalDateEnding': '2010-12-31', 'reportedDate': '2011-01-27', 'reportedEPS': '0.77', 'estimatedEPS': '0.68', 'surprise': '0.09', 'surprisePercentage': '13.2353'}, {'fiscalDateEnding': '2010-09-30', 'reportedDate': '2010-10-28', 'reportedEPS': '0.62', 'estimatedEPS': '0.55', 'surprise': '0.07', 'surprisePercentage': '12.7273'}, {'fiscalDateEnding': '2010-06-30', 'reportedDate': '2010-07-22', 'reportedEPS': '0.51', 'estimatedEPS': '0.46', 'surprise': '0.05', 'surprisePercentage': '10.8696'}, {'fiscalDateEnding': '2010-03-31', 'reportedDate': '2010-04-22', 'reportedEPS': '0.45', 'estimatedEPS': '0.42', 'surprise': '0.03', 'surprisePercentage': '7.1429'}, {'fiscalDateEnding': '2009-12-31', 'reportedDate': '2010-01-28', 'reportedEPS': '0.74', 'estimatedEPS': '0.59', 'surprise': '0.15', 'surprisePercentage': '25.4237'}, {'fiscalDateEnding': '2009-09-30', 'reportedDate': '2009-10-23', 'reportedEPS': '0.4', 'estimatedEPS': '0.32', 'surprise': '0.08', 'surprisePercentage': '25'}, {'fiscalDateEnding': '2009-06-30', 'reportedDate': '2009-07-23', 'reportedEPS': '0.36', 'estimatedEPS': '0.36', 'surprise': '0', 'surprisePercentage': '0'}, {'fiscalDateEnding': '2009-03-31', 'reportedDate': '2009-04-23', 'reportedEPS': '0.39', 'estimatedEPS': '0.39', 'surprise': '0', 'surprisePercentage': '0'}, {'fiscalDateEnding': '2008-12-31', 'reportedDate': '2009-01-22', 'reportedEPS': '0.47', 'estimatedEPS': '0.49', 'surprise': '-0.02', 'surprisePercentage': '-4.0816'}, {'fiscalDateEnding': '2008-09-30', 'reportedDate': '2008-10-23', 'reportedEPS': '0.48', 'estimatedEPS': '0.47', 'surprise': '0.01', 'surprisePercentage': '2.1277'}, {'fiscalDateEnding': '2008-06-30', 'reportedDate': '2008-07-17', 'reportedEPS': '0.46', 'estimatedEPS': '0.47', 'surprise': '-0.01', 'surprisePercentage': '-2.1277'}, {'fiscalDateEnding': '2008-03-31', 'reportedDate': '2008-04-24', 'reportedEPS': '0.47', 'estimatedEPS': '0.44', 'surprise': '0.03', 'surprisePercentage': '6.8182'}, {'fiscalDateEnding': '2007-12-31', 'reportedDate': '2008-01-24', 'reportedEPS': '0.5', 'estimatedEPS': '0.46', 'surprise': '0.04', 'surprisePercentage': '8.6957'}, {'fiscalDateEnding': '2007-09-30', 'reportedDate': '2007-10-25', 'reportedEPS': '0.45', 'estimatedEPS': '0.39', 'surprise': '0.06', 'surprisePercentage': '15.3846'}, {'fiscalDateEnding': '2007-06-30', 'reportedDate': '2007-07-19', 'reportedEPS': '0.39', 'estimatedEPS': '0.39', 'surprise': '0', 'surprisePercentage': '0'}, {'fiscalDateEnding': '2007-03-31', 'reportedDate': '2007-04-26', 'reportedEPS': '0.49', 'estimatedEPS': '0.46', 'surprise': '0.03', 'surprisePercentage': '6.5217'}, {'fiscalDateEnding': '2006-12-31', 'reportedDate': '2007-01-25', 'reportedEPS': '0.26', 'estimatedEPS': '0.23', 'surprise': '0.03', 'surprisePercentage': '13.0435'}, {'fiscalDateEnding': '2006-09-30', 'reportedDate': '2006-10-26', 'reportedEPS': '0.35', 'estimatedEPS': '0.31', 'surprise': '0.04', 'surprisePercentage': '12.9032'}, {'fiscalDateEnding': '2006-06-30', 'reportedDate': '2006-07-20', 'reportedEPS': '0.31', 'estimatedEPS': '0.3', 'surprise': '0.01', 'surprisePercentage': '3.3333'}, {'fiscalDateEnding': '2006-03-31', 'reportedDate': '2006-04-27', 'reportedEPS': '0.32', 'estimatedEPS': '0.33', 'surprise': '-0.01', 'surprisePercentage': '-3.0303'}, {'fiscalDateEnding': '2005-12-31', 'reportedDate': '2006-01-26', 'reportedEPS': '0.33', 'estimatedEPS': '0.33', 'surprise': '0', 'surprisePercentage': '0'}, {'fiscalDateEnding': '2005-09-30', 'reportedDate': '2005-10-27', 'reportedEPS': '0.31', 'estimatedEPS': '0.3', 'surprise': '0.01', 'surprisePercentage': '3.3333'}, {'fiscalDateEnding': '2005-06-30', 'reportedDate': '2005-07-21', 'reportedEPS': '0.32', 'estimatedEPS': '0.31', 'surprise': '0.01', 'surprisePercentage': '3.2258'}, {'fiscalDateEnding': '2005-03-31', 'reportedDate': '2005-04-28', 'reportedEPS': '0.32', 'estimatedEPS': '0.32', 'surprise': '0', 'surprisePercentage': '0'}, {'fiscalDateEnding': '2004-12-31', 'reportedDate': '2005-01-27', 'reportedEPS': '0.35', 'estimatedEPS': '0.33', 'surprise': '0.02', 'surprisePercentage': '6.0606'}, {'fiscalDateEnding': '2004-09-30', 'reportedDate': '2004-10-21', 'reportedEPS': '0.31', 'estimatedEPS': '0.3', 'surprise': '0.01', 'surprisePercentage': '3.3333'}, {'fiscalDateEnding': '2004-06-30', 'reportedDate': '2004-07-22', 'reportedEPS': '0.28', 'estimatedEPS': '0.29', 'surprise': '-0.01', 'surprisePercentage': '-3.4483'}, {'fiscalDateEnding': '2004-03-31', 'reportedDate': '2004-04-22', 'reportedEPS': '0.34', 'estimatedEPS': '0.29', 'surprise': '0.05', 'surprisePercentage': '17.2414'}, {'fiscalDateEnding': '2003-12-31', 'reportedDate': '2004-01-22', 'reportedEPS': '0.34', 'estimatedEPS': '0.3', 'surprise': '0.04', 'surprisePercentage': '13.3333'}, {'fiscalDateEnding': '2003-09-30', 'reportedDate': '2003-10-23', 'reportedEPS': '0.3', 'estimatedEPS': '0.29', 'surprise': '0.01', 'surprisePercentage': '3.4483'}, {'fiscalDateEnding': '2003-06-30', 'reportedDate': '2003-07-17', 'reportedEPS': '0.23', 'estimatedEPS': '0.24', 'surprise': '-0.01', 'surprisePercentage': '-4.1667'}, {'fiscalDateEnding': '2003-03-31', 'reportedDate': '2003-04-15', 'reportedEPS': '0.27', 'estimatedEPS': '0.24', 'surprise': '0.03', 'surprisePercentage': '12.5'}, {'fiscalDateEnding': '2002-12-31', 'reportedDate': '2003-01-16', 'reportedEPS': '0.27', 'estimatedEPS': '0.23', 'surprise': '0.04', 'surprisePercentage': '17.3913'}, {'fiscalDateEnding': '2002-09-30', 'reportedDate': '2002-10-17', 'reportedEPS': '0.28', 'estimatedEPS': '0.21', 'surprise': '0.07', 'surprisePercentage': '33.3333'}, {'fiscalDateEnding': '2002-06-30', 'reportedDate': '2002-07-18', 'reportedEPS': '0.21', 'estimatedEPS': '0.21', 'surprise': '0', 'surprisePercentage': '0'}, {'fiscalDateEnding': '2002-03-31', 'reportedDate': '2002-04-18', 'reportedEPS': '0.25', 'estimatedEPS': '0.25', 'surprise': '0', 'surprisePercentage': '0'}, {'fiscalDateEnding': '2001-12-31', 'reportedDate': '2002-01-17', 'reportedEPS': '0.25', 'estimatedEPS': '0.21', 'surprise': '0.04', 'surprisePercentage': '19.0476'}, {'fiscalDateEnding': '2001-09-30', 'reportedDate': '2001-10-18', 'reportedEPS': '0.22', 'estimatedEPS': '0.2', 'surprise': '0.02', 'surprisePercentage': '10'}, {'fiscalDateEnding': '2001-06-30', 'reportedDate': '2001-07-19', 'reportedEPS': '0.22', 'estimatedEPS': '0.21', 'surprise': '0.01', 'surprisePercentage': '4.7619'}, {'fiscalDateEnding': '2001-03-31', 'reportedDate': '2001-04-19', 'reportedEPS': '0.22', 'estimatedEPS': '0.21', 'surprise': '0.01', 'surprisePercentage': '4.7619'}, {'fiscalDateEnding': '2000-12-31', 'reportedDate': '2001-01-18', 'reportedEPS': '0.24', 'estimatedEPS': '0.23', 'surprise': '0.01', 'surprisePercentage': '4.3478'}, {'fiscalDateEnding': '2000-09-30', 'reportedDate': '2000-10-18', 'reportedEPS': '0.23', 'estimatedEPS': '0.21', 'surprise': '0.02', 'surprisePercentage': '9.5238'}, {'fiscalDateEnding': '2000-06-30', 'reportedDate': '2000-07-18', 'reportedEPS': '0.22', 'estimatedEPS': '0.21', 'surprise': '0.01', 'surprisePercentage': '4.7619'}, {'fiscalDateEnding': '2000-03-31', 'reportedDate': '2000-04-20', 'reportedEPS': '0.22', 'estimatedEPS': '0.2', 'surprise': '0.02', 'surprisePercentage': '10'}, {'fiscalDateEnding': '1999-12-31', 'reportedDate': '2000-01-18', 'reportedEPS': '0.24', 'estimatedEPS': '0.21', 'surprise': '0.03', 'surprisePercentage': '14.2857'}, {'fiscalDateEnding': '1999-09-30', 'reportedDate': '1999-10-19', 'reportedEPS': '0.19', 'estimatedEPS': '0.17', 'surprise': '0.02', 'surprisePercentage': '11.7647'}, {'fiscalDateEnding': '1999-06-30', 'reportedDate': '1999-07-19', 'reportedEPS': '0.2', 'estimatedEPS': '0.18', 'surprise': '0.02', 'surprisePercentage': '11.1111'}, {'fiscalDateEnding': '1999-03-31', 'reportedDate': '1999-04-20', 'reportedEPS': '0.19', 'estimatedEPS': '0.16', 'surprise': '0.03', 'surprisePercentage': '18.75'}, {'fiscalDateEnding': '1998-12-31', 'reportedDate': '1999-01-19', 'reportedEPS': '0.18', 'estimatedEPS': '0.15', 'surprise': '0.03', 'surprisePercentage': '20'}, {'fiscalDateEnding': '1998-09-30', 'reportedDate': '1998-10-20', 'reportedEPS': '0.14', 'estimatedEPS': '0.12', 'surprise': '0.02', 'surprisePercentage': '16.6667'}, {'fiscalDateEnding': '1998-06-30', 'reportedDate': '1998-07-16', 'reportedEPS': '0.13', 'estimatedEPS': '0.12', 'surprise': '0.01', 'surprisePercentage': '8.3333'}, {'fiscalDateEnding': '1998-03-31', 'reportedDate': '1998-04-22', 'reportedEPS': '0.13', 'estimatedEPS': '0.12', 'surprise': '0.01', 'surprisePercentage': '8.3333'}, {'fiscalDateEnding': '1997-12-31', 'reportedDate': '1998-01-21', 'reportedEPS': '0.11', 'estimatedEPS': '0.1', 'surprise': '0.01', 'surprisePercentage': '10'}, {'fiscalDateEnding': '1997-09-30', 'reportedDate': '1997-10-20', 'reportedEPS': '0.09', 'estimatedEPS': '0.09', 'surprise': '0', 'surprisePercentage': '0'}, {'fiscalDateEnding': '1997-06-30', 'reportedDate': '1997-07-17', 'reportedEPS': '0.1', 'estimatedEPS': '0.1', 'surprise': '0', 'surprisePercentage': '0'}, {'fiscalDateEnding': '1997-03-31', 'reportedDate': '1997-04-17', 'reportedEPS': '0.1', 'estimatedEPS': '0.08', 'surprise': '0.02', 'surprisePercentage': '25'}, {'fiscalDateEnding': '1996-12-31', 'reportedDate': '1997-01-17', 'reportedEPS': '0.07', 'estimatedEPS': '0.06', 'surprise': '0.01', 'surprisePercentage': '16.6667'}, {'fiscalDateEnding': '1996-09-30', 'reportedDate': '1996-10-21', 'reportedEPS': '0.06', 'estimatedEPS': '0.06', 'surprise': '0', 'surprisePercentage': '0'}, {'fiscalDateEnding': '1996-06-30', 'reportedDate': '1996-07-22', 'reportedEPS': '0.05', 'estimatedEPS': '0.05', 'surprise': '0', 'surprisePercentage': '0'}, {'fiscalDateEnding': '1996-03-31', 'reportedDate': '1996-04-18', 'reportedEPS': '0.06', 'estimatedEPS': '0.05', 'surprise': '0.01', 'surprisePercentage': '20'}]\n"
     ]
    }
   ],
   "source": [
    "url = 'https://www.alphavantage.co/query?function=EARNINGS&symbol={}&apikey={}'.format('MSFT', api_key)\n",
    "r = requests.get(url)\n",
    "data = r.json()\n",
    "\n",
    "quarterly_earnings = data['quarterlyEarnings']\n",
    "print(quarterly_earnings)\n"
   ]
  },
  {
   "cell_type": "code",
   "execution_count": 69,
   "metadata": {},
   "outputs": [
    {
     "name": "stdout",
     "output_type": "stream",
     "text": [
      "1996-03-31 2022-12-31\n"
     ]
    }
   ],
   "source": [
    "dates = []\n",
    "eps = []\n",
    "for item in quarterly_earnings:\n",
    "    dates.append(item['fiscalDateEnding'])\n",
    "    eps.append(item['reportedEPS'])\n",
    "    # print(item['fiscalDateEnding'], item['reportedEPS'])\n",
    "\n",
    "end_date = dates[0]\n",
    "start_date = dates[-1]\n",
    "\n",
    "print(start_date, end_date)\n"
   ]
  },
  {
   "cell_type": "code",
   "execution_count": 64,
   "metadata": {},
   "outputs": [
    {
     "data": {
      "text/html": [
       "<div>\n",
       "<style scoped>\n",
       "    .dataframe tbody tr th:only-of-type {\n",
       "        vertical-align: middle;\n",
       "    }\n",
       "\n",
       "    .dataframe tbody tr th {\n",
       "        vertical-align: top;\n",
       "    }\n",
       "\n",
       "    .dataframe thead th {\n",
       "        text-align: right;\n",
       "    }\n",
       "</style>\n",
       "<table border=\"1\" class=\"dataframe\">\n",
       "  <thead>\n",
       "    <tr style=\"text-align: right;\">\n",
       "      <th></th>\n",
       "      <th>Date</th>\n",
       "      <th>EPS</th>\n",
       "    </tr>\n",
       "  </thead>\n",
       "  <tbody>\n",
       "    <tr>\n",
       "      <th>0</th>\n",
       "      <td>2022-12-31</td>\n",
       "      <td>2.32</td>\n",
       "    </tr>\n",
       "    <tr>\n",
       "      <th>1</th>\n",
       "      <td>2022-09-30</td>\n",
       "      <td>2.35</td>\n",
       "    </tr>\n",
       "    <tr>\n",
       "      <th>2</th>\n",
       "      <td>2022-06-30</td>\n",
       "      <td>2.23</td>\n",
       "    </tr>\n",
       "    <tr>\n",
       "      <th>3</th>\n",
       "      <td>2022-03-31</td>\n",
       "      <td>2.22</td>\n",
       "    </tr>\n",
       "    <tr>\n",
       "      <th>4</th>\n",
       "      <td>2021-12-31</td>\n",
       "      <td>2.48</td>\n",
       "    </tr>\n",
       "  </tbody>\n",
       "</table>\n",
       "</div>"
      ],
      "text/plain": [
       "         Date   EPS\n",
       "0  2022-12-31  2.32\n",
       "1  2022-09-30  2.35\n",
       "2  2022-06-30  2.23\n",
       "3  2022-03-31  2.22\n",
       "4  2021-12-31  2.48"
      ]
     },
     "execution_count": 64,
     "metadata": {},
     "output_type": "execute_result"
    }
   ],
   "source": [
    "qe_df = pd.DataFrame(list(zip(dates, eps)), columns=['Date', 'EPS'])\n",
    "qe_df.head()"
   ]
  },
  {
   "cell_type": "code",
   "execution_count": 65,
   "metadata": {},
   "outputs": [
    {
     "data": {
      "text/html": [
       "<div>\n",
       "<style scoped>\n",
       "    .dataframe tbody tr th:only-of-type {\n",
       "        vertical-align: middle;\n",
       "    }\n",
       "\n",
       "    .dataframe tbody tr th {\n",
       "        vertical-align: top;\n",
       "    }\n",
       "\n",
       "    .dataframe thead th {\n",
       "        text-align: right;\n",
       "    }\n",
       "</style>\n",
       "<table border=\"1\" class=\"dataframe\">\n",
       "  <thead>\n",
       "    <tr style=\"text-align: right;\">\n",
       "      <th></th>\n",
       "      <th>Date</th>\n",
       "      <th>EPS</th>\n",
       "    </tr>\n",
       "  </thead>\n",
       "  <tbody>\n",
       "    <tr>\n",
       "      <th>103</th>\n",
       "      <td>1997-03-31</td>\n",
       "      <td>0.1</td>\n",
       "    </tr>\n",
       "    <tr>\n",
       "      <th>104</th>\n",
       "      <td>1996-12-31</td>\n",
       "      <td>0.07</td>\n",
       "    </tr>\n",
       "    <tr>\n",
       "      <th>105</th>\n",
       "      <td>1996-09-30</td>\n",
       "      <td>0.06</td>\n",
       "    </tr>\n",
       "    <tr>\n",
       "      <th>106</th>\n",
       "      <td>1996-06-30</td>\n",
       "      <td>0.05</td>\n",
       "    </tr>\n",
       "    <tr>\n",
       "      <th>107</th>\n",
       "      <td>1996-03-31</td>\n",
       "      <td>0.06</td>\n",
       "    </tr>\n",
       "  </tbody>\n",
       "</table>\n",
       "</div>"
      ],
      "text/plain": [
       "           Date   EPS\n",
       "103  1997-03-31   0.1\n",
       "104  1996-12-31  0.07\n",
       "105  1996-09-30  0.06\n",
       "106  1996-06-30  0.05\n",
       "107  1996-03-31  0.06"
      ]
     },
     "execution_count": 65,
     "metadata": {},
     "output_type": "execute_result"
    }
   ],
   "source": [
    "qe_df.tail()"
   ]
  },
  {
   "cell_type": "code",
   "execution_count": 95,
   "metadata": {},
   "outputs": [
    {
     "data": {
      "text/html": [
       "<div>\n",
       "<style scoped>\n",
       "    .dataframe tbody tr th:only-of-type {\n",
       "        vertical-align: middle;\n",
       "    }\n",
       "\n",
       "    .dataframe tbody tr th {\n",
       "        vertical-align: top;\n",
       "    }\n",
       "\n",
       "    .dataframe thead th {\n",
       "        text-align: right;\n",
       "    }\n",
       "</style>\n",
       "<table border=\"1\" class=\"dataframe\">\n",
       "  <thead>\n",
       "    <tr style=\"text-align: right;\">\n",
       "      <th></th>\n",
       "      <th>EPS</th>\n",
       "    </tr>\n",
       "  </thead>\n",
       "  <tbody>\n",
       "    <tr>\n",
       "      <th>2022-12-31</th>\n",
       "      <td>2.32</td>\n",
       "    </tr>\n",
       "    <tr>\n",
       "      <th>2022-09-30</th>\n",
       "      <td>2.35</td>\n",
       "    </tr>\n",
       "    <tr>\n",
       "      <th>2022-06-30</th>\n",
       "      <td>2.23</td>\n",
       "    </tr>\n",
       "    <tr>\n",
       "      <th>2022-03-31</th>\n",
       "      <td>2.22</td>\n",
       "    </tr>\n",
       "    <tr>\n",
       "      <th>2021-12-31</th>\n",
       "      <td>2.48</td>\n",
       "    </tr>\n",
       "  </tbody>\n",
       "</table>\n",
       "</div>"
      ],
      "text/plain": [
       "             EPS\n",
       "2022-12-31  2.32\n",
       "2022-09-30  2.35\n",
       "2022-06-30  2.23\n",
       "2022-03-31  2.22\n",
       "2021-12-31  2.48"
      ]
     },
     "execution_count": 95,
     "metadata": {},
     "output_type": "execute_result"
    }
   ],
   "source": [
    "qe_df_2 = pd.DataFrame(eps, index=dates, columns=['EPS'])\n",
    "qe_df_2.head()\n"
   ]
  },
  {
   "cell_type": "code",
   "execution_count": 85,
   "metadata": {},
   "outputs": [],
   "source": [
    "import datetime\n",
    "import pandas_datareader.data as pdr\n",
    "\n",
    "msft = pdr.DataReader(\"MSFT\", \"av-monthly\", start=start_date, end=end_date, api_key='REGTU7YTI3S3D5UM')\n",
    "# print(list(msft.index))\n",
    "# print(msft.loc['2022-12-30']['close'])"
   ]
  },
  {
   "cell_type": "code",
   "execution_count": 104,
   "metadata": {},
   "outputs": [],
   "source": [
    "share_prices_final = []\n",
    "PE_ratios = []\n",
    "dates_final = []\n",
    "\n",
    "stock_price_dates = list(msft.index)\n",
    "for date in dates:\n",
    "    for stock_price_date in stock_price_dates:\n",
    "        if date[:7] == stock_price_date[:7]:\n",
    "            PE_ratio = float(msft.loc[stock_price_date]['close']) / float(qe_df_2.loc[date]['EPS'])\n",
    "            PE_ratios.append(PE_ratio)\n",
    "            dates_final.append(date)\n",
    "            share_prices_final.append(msft.loc[stock_price_date]['close'])\n",
    "\n",
    "            # print(stock_price_date[:7], msft.loc[stock_price_date]['close'], PE_ratio)"
   ]
  },
  {
   "cell_type": "code",
   "execution_count": 107,
   "metadata": {},
   "outputs": [
    {
     "data": {
      "text/html": [
       "<div>\n",
       "<style scoped>\n",
       "    .dataframe tbody tr th:only-of-type {\n",
       "        vertical-align: middle;\n",
       "    }\n",
       "\n",
       "    .dataframe tbody tr th {\n",
       "        vertical-align: top;\n",
       "    }\n",
       "\n",
       "    .dataframe thead th {\n",
       "        text-align: right;\n",
       "    }\n",
       "</style>\n",
       "<table border=\"1\" class=\"dataframe\">\n",
       "  <thead>\n",
       "    <tr style=\"text-align: right;\">\n",
       "      <th></th>\n",
       "      <th>Share Price</th>\n",
       "      <th>PE Ratio</th>\n",
       "    </tr>\n",
       "  </thead>\n",
       "  <tbody>\n",
       "    <tr>\n",
       "      <th>2022-12-31</th>\n",
       "      <td>239.82</td>\n",
       "      <td>103.370690</td>\n",
       "    </tr>\n",
       "    <tr>\n",
       "      <th>2022-09-30</th>\n",
       "      <td>232.90</td>\n",
       "      <td>99.106383</td>\n",
       "    </tr>\n",
       "    <tr>\n",
       "      <th>2022-06-30</th>\n",
       "      <td>256.83</td>\n",
       "      <td>115.170404</td>\n",
       "    </tr>\n",
       "    <tr>\n",
       "      <th>2022-03-31</th>\n",
       "      <td>308.31</td>\n",
       "      <td>138.878378</td>\n",
       "    </tr>\n",
       "    <tr>\n",
       "      <th>2021-12-31</th>\n",
       "      <td>336.32</td>\n",
       "      <td>135.612903</td>\n",
       "    </tr>\n",
       "  </tbody>\n",
       "</table>\n",
       "</div>"
      ],
      "text/plain": [
       "            Share Price    PE Ratio\n",
       "2022-12-31       239.82  103.370690\n",
       "2022-09-30       232.90   99.106383\n",
       "2022-06-30       256.83  115.170404\n",
       "2022-03-31       308.31  138.878378\n",
       "2021-12-31       336.32  135.612903"
      ]
     },
     "execution_count": 107,
     "metadata": {},
     "output_type": "execute_result"
    }
   ],
   "source": [
    "df_final = pd.DataFrame(list(zip(share_prices_final, PE_ratios)), index=dates_final, columns=['Share Price', 'PE Ratio'])\n",
    "df_final.head()"
   ]
  },
  {
   "cell_type": "code",
   "execution_count": 108,
   "metadata": {},
   "outputs": [
    {
     "data": {
      "image/png": "[encoded data removed]",
      "text/plain": [
       "<Figure size 640x480 with 1 Axes>"
      ]
     },
     "metadata": {},
     "output_type": "display_data"
    }
   ],
   "source": [
    "import matplotlib.pyplot as plt\n",
    "# plot a line graph of the PE ratio and the share price\n",
    "df_final.plot()\n",
    "plt.show()\n"
   ]
  },
  {
   "cell_type": "code",
   "execution_count": null,
   "metadata": {},
   "outputs": [],
   "source": []
  }
 ],
 "metadata": {
  "kernelspec": {
   "display_name": "Python 3",
   "language": "python",
   "name": "python3"
  },
  "language_info": {
   "codemirror_mode": {
    "name": "ipython",
    "version": 3
   },
   "file_extension": ".py",
   "mimetype": "text/x-python",
   "name": "python",
   "nbconvert_exporter": "python",
   "pygments_lexer": "ipython3",
   "version": "3.10.10"
  },
  "orig_nbformat": 4
 },
 "nbformat": 4,
 "nbformat_minor": 2
}
